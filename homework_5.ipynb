{
 "cells": [
  {
   "cell_type": "markdown",
   "id": "c952fb01",
   "metadata": {},
   "source": [
    "# 05-deployment"
   ]
  },
  {
   "cell_type": "markdown",
   "id": "c551bf88",
   "metadata": {},
   "source": [
    "https://github.com/alexeygrigorev/mlbookcamp-code/blob/master/course-zoomcamp/cohorts/2022/05-deployment/homework.md"
   ]
  },
  {
   "cell_type": "code",
   "execution_count": 1,
   "id": "eddc838b",
   "metadata": {},
   "outputs": [],
   "source": [
    "import pickle\n",
    "import os\n",
    "import requests"
   ]
  },
  {
   "cell_type": "code",
   "execution_count": 2,
   "id": "ba7c0a6f",
   "metadata": {},
   "outputs": [],
   "source": [
    "import warnings\n",
    "warnings.filterwarnings('ignore')"
   ]
  },
  {
   "cell_type": "markdown",
   "id": "4740f0d2",
   "metadata": {},
   "source": [
    "# Question 1"
   ]
  },
  {
   "cell_type": "markdown",
   "id": "ab3921ff",
   "metadata": {},
   "source": [
    "* Install Pipenv\n",
    "* What's the version of pipenv you installed?\n",
    "* Use --version to find out"
   ]
  },
  {
   "cell_type": "code",
   "execution_count": 3,
   "id": "68cd1bc8",
   "metadata": {},
   "outputs": [
    {
     "name": "stdout",
     "output_type": "stream",
     "text": [
      "pipenv, version 2022.9.24\n",
      "\n"
     ]
    }
   ],
   "source": [
    "!pipenv --version"
   ]
  },
  {
   "cell_type": "markdown",
   "id": "d40a9daf",
   "metadata": {},
   "source": [
    "Answer: pipenv\t2022.9.24"
   ]
  },
  {
   "cell_type": "markdown",
   "id": "12de45a1",
   "metadata": {},
   "source": [
    "# Question 2"
   ]
  },
  {
   "cell_type": "code",
   "execution_count": 4,
   "id": "802780ba",
   "metadata": {},
   "outputs": [],
   "source": [
    "# Use Pipenv to install Scikit-Learn version 1.0.2\n",
    "# pipenv install scikit-learn==1.0.2"
   ]
  },
  {
   "cell_type": "markdown",
   "id": "f1008388",
   "metadata": {},
   "source": [
    "What's the first hash for scikit-learn you get in Pipfile.lock?"
   ]
  },
  {
   "cell_type": "raw",
   "id": "0b87a545",
   "metadata": {},
   "source": [
    "\"scikit-learn\": {\n",
    "            \"hashes\": [\n",
    "                \"sha256:08ef968f6b72033c16c479c966bf37ccd49b06ea91b765e1cc27afefe723920b\",\n",
    "                \"sha256:158faf30684c92a78e12da19c73feff9641a928a8024b4fa5ec11d583f3d8a87\",\""
   ]
  },
  {
   "cell_type": "markdown",
   "id": "2763ab90",
   "metadata": {},
   "source": [
    "Answer: sha256:08ef968f6b72033c16c479c966bf37ccd49b06ea91b765e1cc27afefe723920b"
   ]
  },
  {
   "cell_type": "markdown",
   "id": "f320a7d1",
   "metadata": {},
   "source": [
    "## Models"
   ]
  },
  {
   "cell_type": "markdown",
   "id": "558989c8",
   "metadata": {},
   "source": [
    "We've prepared a dictionary vectorizer and a model.\n",
    "\n",
    "They were trained (roughly) using this code:\n",
    "\n",
    "* features = ['reports', 'share', 'expenditure', 'owner']\n",
    "* dicts = df[features].to_dict(orient='records')\n",
    "\n",
    "* dv = DictVectorizer(sparse=False)\n",
    "* X = dv.fit_transform(dicts)\n",
    "\n",
    "* model = LogisticRegression(solver='liblinear').fit(X, y)\n",
    "\n",
    "And then saved with Pickle."
   ]
  },
  {
   "cell_type": "raw",
   "id": "9f0f7285",
   "metadata": {},
   "source": [
    "If you're getting errors when unpickling the files, check their checksum:\n",
    "\n",
    "$ md5sum model1.bin dv.bin\n",
    "3f57f3ebfdf57a9e1368dcd0f28a4a14  model1.bin\n",
    "6b7cded86a52af7e81859647fa3a5c2e  dv.bin"
   ]
  },
  {
   "cell_type": "code",
   "execution_count": 4,
   "id": "0b14dcce",
   "metadata": {},
   "outputs": [
    {
     "name": "stdout",
     "output_type": "stream",
     "text": [
      "3f57f3ebfdf57a9e1368dcd0f28a4a14 *./data/model1.bin\n",
      "6b7cded86a52af7e81859647fa3a5c2e *./data/dv.bin\n"
     ]
    }
   ],
   "source": [
    "!md5sum ./data/model1.bin ./data/dv.bin"
   ]
  },
  {
   "cell_type": "code",
   "execution_count": 5,
   "id": "0a993bd8",
   "metadata": {},
   "outputs": [
    {
     "data": {
      "text/plain": [
       "(LogisticRegression(solver='liblinear'), DictVectorizer(sparse=False))"
      ]
     },
     "execution_count": 5,
     "metadata": {},
     "output_type": "execute_result"
    }
   ],
   "source": [
    "with open(os.path.join('data','model1.bin'), 'rb') as f_model:\n",
    "    model = pickle.load(f_model)\n",
    "    \n",
    "with open(os.path.join('data','dv.bin'), 'rb') as f_dv:\n",
    "    dv = pickle.load(f_dv)\n",
    "    \n",
    "model, dv"
   ]
  },
  {
   "cell_type": "markdown",
   "id": "c150c046",
   "metadata": {},
   "source": [
    "# Question 3"
   ]
  },
  {
   "cell_type": "markdown",
   "id": "efe2efcc",
   "metadata": {},
   "source": [
    "Let's use these models!\n",
    "\n",
    "Write a script for loading these models with pickle\n",
    "\n",
    "Score this client:\n",
    "{\"reports\": 0, \"share\": 0.001694, \"expenditure\": 0.12, \"owner\": \"yes\"}\n",
    "\n",
    "What's the probability that this client will get a credit card?"
   ]
  },
  {
   "cell_type": "code",
   "execution_count": 6,
   "id": "7758f878",
   "metadata": {},
   "outputs": [],
   "source": [
    "client = {\"reports\": 0, \"share\": 0.001694, \"expenditure\": 0.12, \"owner\": \"yes\"}"
   ]
  },
  {
   "cell_type": "code",
   "execution_count": 7,
   "id": "93ee3094",
   "metadata": {},
   "outputs": [
    {
     "data": {
      "text/plain": [
       "0.16213414434326598"
      ]
     },
     "execution_count": 7,
     "metadata": {},
     "output_type": "execute_result"
    }
   ],
   "source": [
    "X = dv.transform([client])\n",
    "model.predict_proba(X)[0, 1]"
   ]
  },
  {
   "cell_type": "markdown",
   "id": "9576a1a9",
   "metadata": {},
   "source": [
    "Answer: closest answer is __0.148__"
   ]
  },
  {
   "cell_type": "markdown",
   "id": "68063736",
   "metadata": {},
   "source": [
    "# Question 4"
   ]
  },
  {
   "cell_type": "markdown",
   "id": "90bc09a0",
   "metadata": {},
   "source": [
    "Now let's serve this model as a web service\n",
    "\n",
    "* Install Flask and gunicorn (or waitress, if you're on Windows)\n",
    "* Write Flask code for serving the model\n",
    "* Now score this client using requests:"
   ]
  },
  {
   "cell_type": "code",
   "execution_count": 8,
   "id": "77783910",
   "metadata": {},
   "outputs": [
    {
     "data": {
      "text/plain": [
       "{'y_pred': 0.9282218018527452}"
      ]
     },
     "execution_count": 8,
     "metadata": {},
     "output_type": "execute_result"
    }
   ],
   "source": [
    "url = 'http://localhost:9696/predict'\n",
    "client = {\"reports\": 0, \"share\": 0.245, \"expenditure\": 3.438, \"owner\": \"yes\"}\n",
    "requests.post(url, json=client).json()"
   ]
  },
  {
   "cell_type": "markdown",
   "id": "d294cb50",
   "metadata": {},
   "source": [
    "Answer: __0.928__"
   ]
  },
  {
   "cell_type": "markdown",
   "id": "755f4889",
   "metadata": {},
   "source": [
    "# Question 5"
   ]
  },
  {
   "cell_type": "markdown",
   "id": "9200210f",
   "metadata": {},
   "source": [
    "Download the base image svizor/zoomcamp-model:3.9.12-slim. You can easily make it by using docker pull command.\n",
    "\n",
    "So what's the size of this base image?"
   ]
  },
  {
   "cell_type": "code",
   "execution_count": 9,
   "id": "41fa2b96",
   "metadata": {},
   "outputs": [
    {
     "name": "stdout",
     "output_type": "stream",
     "text": [
      "svizor/zoomcamp-model   3.9.12-slim   571a6fdc554b   3 days ago       125MB\n"
     ]
    }
   ],
   "source": [
    "!docker images | grep svizor"
   ]
  },
  {
   "cell_type": "markdown",
   "id": "3b58430f",
   "metadata": {},
   "source": [
    "Answer: __125 Mb__"
   ]
  },
  {
   "cell_type": "markdown",
   "id": "309f1f5d",
   "metadata": {},
   "source": [
    "# Dockerfile"
   ]
  },
  {
   "cell_type": "markdown",
   "id": "0aae41df",
   "metadata": {},
   "source": [
    "Now create your own Dockerfile based on the image we prepared.\n",
    "\n",
    "It should start like that:"
   ]
  },
  {
   "cell_type": "raw",
   "id": "11ee45d0",
   "metadata": {},
   "source": [
    "FROM svizor/zoomcamp-model:3.9.12-slim\n",
    "# add your stuff here"
   ]
  },
  {
   "cell_type": "markdown",
   "id": "90e72f88",
   "metadata": {},
   "source": [
    "Now complete it:\n",
    "\n",
    "* Install all the dependencies form the Pipenv file\n",
    "* Copy your Flask script\n",
    "* Run it with Gunicorn\n",
    "\n",
    "After that, you can build your docker image."
   ]
  },
  {
   "cell_type": "raw",
   "id": "c9785583",
   "metadata": {},
   "source": [
    "FROM svizor/zoomcamp-model:3.9.12-slim\n",
    "RUN pip install pipenv\n",
    "WORKDIR /app\n",
    "COPY [\"Pipfile\", \"Pipfile.lock\", \"predict.py\", \"./\"]\n",
    "RUN pipenv install --system --deploy\n",
    "EXPOSE 9696\n",
    "ENTRYPOINT [\"gunicorn\", \"--bind=0.0.0.0:9696\", \"predict:app\"]"
   ]
  },
  {
   "cell_type": "markdown",
   "id": "8314c407",
   "metadata": {},
   "source": [
    "# Question 6"
   ]
  },
  {
   "cell_type": "markdown",
   "id": "6b9a29b2",
   "metadata": {},
   "source": [
    "Let's run your docker container!\n",
    "\n",
    "After running it, score this client once again:"
   ]
  },
  {
   "cell_type": "code",
   "execution_count": 10,
   "id": "206a7d3f",
   "metadata": {},
   "outputs": [
    {
     "data": {
      "text/plain": [
       "{'y_pred': 0.7692649226628628}"
      ]
     },
     "execution_count": 10,
     "metadata": {},
     "output_type": "execute_result"
    }
   ],
   "source": [
    "url = \"http://localhost:9696/predict\"\n",
    "client = {\"reports\": 0, \"share\": 0.245, \"expenditure\": 3.438, \"owner\": \"yes\"}\n",
    "requests.post(url, json=client).json()"
   ]
  },
  {
   "cell_type": "markdown",
   "id": "bbfbde0d",
   "metadata": {},
   "source": [
    "What's the probability that this client will get a credit card now?"
   ]
  },
  {
   "cell_type": "markdown",
   "id": "e0d882e4",
   "metadata": {},
   "source": [
    "Answer: __0.769__"
   ]
  }
 ],
 "metadata": {
  "kernelspec": {
   "display_name": "Python 3 (ipykernel)",
   "language": "python",
   "name": "python3"
  },
  "language_info": {
   "codemirror_mode": {
    "name": "ipython",
    "version": 3
   },
   "file_extension": ".py",
   "mimetype": "text/x-python",
   "name": "python",
   "nbconvert_exporter": "python",
   "pygments_lexer": "ipython3",
   "version": "3.10.4"
  }
 },
 "nbformat": 4,
 "nbformat_minor": 5
}
