{
 "cells": [
  {
   "cell_type": "markdown",
   "id": "e3e50944",
   "metadata": {},
   "source": [
    "# 10 Kubernetes"
   ]
  },
  {
   "cell_type": "markdown",
   "id": "f2a75320",
   "metadata": {},
   "source": [
    "https://github.com/alexeygrigorev/mlbookcamp-code/blob/master/course-zoomcamp/cohorts/2022/10-kubernetes/homework.md"
   ]
  },
  {
   "cell_type": "code",
   "execution_count": 9,
   "id": "672db734",
   "metadata": {},
   "outputs": [],
   "source": [
    "import numpy as np\n",
    "import pandas as pd\n",
    "import requests"
   ]
  },
  {
   "cell_type": "markdown",
   "id": "3635b2c2",
   "metadata": {},
   "source": [
    "# Question 1"
   ]
  },
  {
   "cell_type": "markdown",
   "id": "1e13684b",
   "metadata": {},
   "source": [
    "Run image svizor42/zoomcamp-model:v001 to test that it's working locally:\n",
    "\n",
    "__docker run -it --rm -p 9696:9696 zoomcamp-model:v001__\n",
    "\n",
    "And in another terminal, execute q6_test.py file:\n",
    "\n",
    "python q6_test.py\n",
    "\n",
    "You should see this:\n",
    "\n",
    "{'get_card': True, 'get_card_probability': *value*}\n",
    "    \n",
    "Here *value* is the probability of getting a credit card. You need to choose the right one."
   ]
  },
  {
   "cell_type": "code",
   "execution_count": 2,
   "id": "bed40042",
   "metadata": {},
   "outputs": [
    {
     "name": "stdout",
     "output_type": "stream",
     "text": [
      "{'get_card': True, 'get_card_probability': 0.7692649226628628}\r\n"
     ]
    }
   ],
   "source": [
    "!python q6_test.py"
   ]
  },
  {
   "cell_type": "markdown",
   "id": "726c96e3",
   "metadata": {},
   "source": [
    "Answer: __0.769__"
   ]
  },
  {
   "cell_type": "markdown",
   "id": "9e54710b",
   "metadata": {},
   "source": [
    "# Question 2"
   ]
  },
  {
   "cell_type": "markdown",
   "id": "603862f2",
   "metadata": {},
   "source": [
    "What's the version of kind that you have?"
   ]
  },
  {
   "cell_type": "code",
   "execution_count": 4,
   "id": "1a61f645",
   "metadata": {},
   "outputs": [
    {
     "name": "stdout",
     "output_type": "stream",
     "text": [
      "kind version 0.17.0\r\n"
     ]
    }
   ],
   "source": [
    "!kind --version"
   ]
  },
  {
   "cell_type": "markdown",
   "id": "527d99eb",
   "metadata": {},
   "source": [
    "Answer: __0.17.0__"
   ]
  },
  {
   "cell_type": "markdown",
   "id": "13a4db9b",
   "metadata": {},
   "source": [
    "# Creating a cluster"
   ]
  },
  {
   "cell_type": "markdown",
   "id": "4ff6f5e9",
   "metadata": {},
   "source": [
    "Now let's create a cluster with kind:\n",
    "\n",
    "__kind create cluster__\n",
    "\n",
    "And check with kubectl that it was successfully created:"
   ]
  },
  {
   "cell_type": "code",
   "execution_count": 6,
   "id": "3291195d",
   "metadata": {},
   "outputs": [
    {
     "name": "stdout",
     "output_type": "stream",
     "text": [
      "\u001b[0;32mKubernetes control plane\u001b[0m is running at \u001b[0;33mhttps://127.0.0.1:45599\u001b[0m\r\n",
      "\u001b[0;32mCoreDNS\u001b[0m is running at \u001b[0;33mhttps://127.0.0.1:45599/api/v1/namespaces/kube-system/services/kube-dns:dns/proxy\u001b[0m\r\n",
      "\r\n",
      "To further debug and diagnose cluster problems, use 'kubectl cluster-info dump'.\r\n"
     ]
    }
   ],
   "source": [
    "!kubectl cluster-info"
   ]
  },
  {
   "cell_type": "markdown",
   "id": "dc2c844b",
   "metadata": {},
   "source": [
    "# Question 3"
   ]
  },
  {
   "cell_type": "markdown",
   "id": "2717568b",
   "metadata": {},
   "source": [
    "What's the smallest deployable computing unit that we can create and manage in Kubernetes (kind in our case)?"
   ]
  },
  {
   "cell_type": "markdown",
   "id": "4bca69db",
   "metadata": {},
   "source": [
    "Answer: __Pod__"
   ]
  },
  {
   "cell_type": "markdown",
   "id": "ace240f4",
   "metadata": {},
   "source": [
    "# Question 4"
   ]
  },
  {
   "cell_type": "markdown",
   "id": "c95b56e8",
   "metadata": {},
   "source": [
    "Now let's test if everything works. Use kubectl to get the list of running services.\n",
    "\n",
    "What's the Type of the service that is already running there?"
   ]
  },
  {
   "cell_type": "code",
   "execution_count": 7,
   "id": "7a452872",
   "metadata": {},
   "outputs": [
    {
     "name": "stdout",
     "output_type": "stream",
     "text": [
      "NAME         TYPE        CLUSTER-IP   EXTERNAL-IP   PORT(S)   AGE\r\n",
      "kubernetes   ClusterIP   10.96.0.1    <none>        443/TCP   4m27s\r\n"
     ]
    }
   ],
   "source": [
    "!kubectl get svc"
   ]
  },
  {
   "cell_type": "markdown",
   "id": "1e246621",
   "metadata": {},
   "source": [
    "Anwser: __ClusterIP__"
   ]
  },
  {
   "cell_type": "markdown",
   "id": "7c2b254c",
   "metadata": {},
   "source": [
    "# Question 5"
   ]
  },
  {
   "cell_type": "markdown",
   "id": "90d6d2d8",
   "metadata": {},
   "source": [
    "To be able to use the docker image we previously created (zoomcamp-model:v001), we need to register it with kind.\n",
    "\n",
    "What's the command we need to run for that?"
   ]
  },
  {
   "cell_type": "markdown",
   "id": "b79defbe",
   "metadata": {},
   "source": [
    "kind load docker-image zoomcamp-model:v001"
   ]
  },
  {
   "cell_type": "markdown",
   "id": "7b8aa41c",
   "metadata": {},
   "source": [
    "Answer: __kind load docker-image__"
   ]
  },
  {
   "cell_type": "markdown",
   "id": "c4493100",
   "metadata": {},
   "source": [
    "# Question 6"
   ]
  },
  {
   "cell_type": "markdown",
   "id": "8257db98",
   "metadata": {},
   "source": [
    "Now let's create a deployment config (e.g. deployment.yaml):"
   ]
  },
  {
   "cell_type": "raw",
   "id": "4c03fde6",
   "metadata": {},
   "source": [
    "apiVersion: apps/v1\n",
    "kind: Deployment\n",
    "metadata:\n",
    "  name: credit-card\n",
    "spec:\n",
    "  selector:\n",
    "    matchLabels:\n",
    "      app: credit-card\n",
    "  replicas: 1\n",
    "  template:\n",
    "    metadata:\n",
    "      labels:\n",
    "        app: credit-card\n",
    "    spec:\n",
    "      containers:\n",
    "      - name: credit-card\n",
    "        image: svizor42/zoomcamp-model:v001\n",
    "        resources:\n",
    "          requests:\n",
    "            memory: \"64Mi\"\n",
    "            cpu: \"100m\"            \n",
    "          limits:\n",
    "            memory: 128Mi\n",
    "            cpu: \"500m\"\n",
    "        ports:\n",
    "        - containerPort: 9696"
   ]
  },
  {
   "cell_type": "markdown",
   "id": "8650fa25",
   "metadata": {},
   "source": [
    "What is the value for <Port>?"
   ]
  },
  {
   "cell_type": "markdown",
   "id": "e2fe19d7",
   "metadata": {},
   "source": [
    "Answer: __9696__"
   ]
  },
  {
   "cell_type": "markdown",
   "id": "511e6edf",
   "metadata": {},
   "source": [
    "# Question 7"
   ]
  },
  {
   "cell_type": "markdown",
   "id": "7bc37f1f",
   "metadata": {},
   "source": [
    "Let's create a service for this deployment (service.yaml):"
   ]
  },
  {
   "cell_type": "raw",
   "id": "1cc446e0",
   "metadata": {},
   "source": [
    "apiVersion: v1\n",
    "kind: Service\n",
    "metadata:\n",
    "  name: credit-card\n",
    "spec:\n",
    "  type: LoadBalancer\n",
    "  selector:\n",
    "    app: credit-card\n",
    "  ports:\n",
    "  - port: 80\n",
    "    targetPort: 9696"
   ]
  },
  {
   "cell_type": "raw",
   "id": "95808b68",
   "metadata": {},
   "source": [
    "Fill it in. What do we need to write instead of <???>?"
   ]
  },
  {
   "cell_type": "markdown",
   "id": "4aed50bd",
   "metadata": {},
   "source": [
    "Answer: __credit-card__"
   ]
  },
  {
   "cell_type": "markdown",
   "id": "4ed38b74",
   "metadata": {},
   "source": [
    "# Testing the service"
   ]
  },
  {
   "cell_type": "markdown",
   "id": "034ee8c9",
   "metadata": {},
   "source": [
    "We can test our service locally by forwarding the port 9696 on our computer to the port 80 on the service:"
   ]
  },
  {
   "cell_type": "raw",
   "id": "3b86a517",
   "metadata": {},
   "source": [
    "kubectl port-forward service/credit-card 9696:80"
   ]
  },
  {
   "cell_type": "markdown",
   "id": "4e4e9373",
   "metadata": {},
   "source": [
    "Run q6_test.py (from the homework 5) once again to verify that everything is working. You should get the same result as in Question 1."
   ]
  },
  {
   "cell_type": "code",
   "execution_count": 21,
   "id": "c5eecf6a",
   "metadata": {},
   "outputs": [
    {
     "name": "stdout",
     "output_type": "stream",
     "text": [
      "{'get_card': True, 'get_card_probability': 0.7692649226628628}\r\n"
     ]
    }
   ],
   "source": [
    "!python q6_test.py"
   ]
  },
  {
   "cell_type": "markdown",
   "id": "c4591133",
   "metadata": {},
   "source": [
    "# Autoscaling"
   ]
  },
  {
   "cell_type": "markdown",
   "id": "69da7839",
   "metadata": {},
   "source": [
    "Now we're going to use a HorizontalPodAutoscaler (HPA for short) that automatically updates a workload resource (such as our deployment), with the aim of automatically scaling the workload to match demand.\n",
    "\n",
    "Use the following command to create the HPA:"
   ]
  },
  {
   "cell_type": "raw",
   "id": "a836a0fd",
   "metadata": {},
   "source": [
    "kubectl autoscale deployment credit-card --name credit-card-hpa --cpu-percent=20 --min=1 --max=3"
   ]
  },
  {
   "cell_type": "markdown",
   "id": "fc82c994",
   "metadata": {},
   "source": [
    "You can check the current status of the new HPA by running:"
   ]
  },
  {
   "cell_type": "code",
   "execution_count": 23,
   "id": "ff7fc229",
   "metadata": {},
   "outputs": [
    {
     "name": "stdout",
     "output_type": "stream",
     "text": [
      "NAME              REFERENCE                TARGETS         MINPODS   MAXPODS   REPLICAS   AGE\r\n",
      "credit-card-hpa   Deployment/credit-card   <unknown>/20%   1         3         1          41s\r\n"
     ]
    }
   ],
   "source": [
    "!kubectl get hpa"
   ]
  },
  {
   "cell_type": "markdown",
   "id": "9dd5b6f0",
   "metadata": {},
   "source": [
    "# Increase the load"
   ]
  },
  {
   "cell_type": "markdown",
   "id": "2255da96",
   "metadata": {},
   "source": [
    "Let's see how the autoscaler reacts to increasing the load. To do this, we can slightly modify the existing q6_test.py script by putting the operator that sends the request to the credit-card service into a loop."
   ]
  },
  {
   "cell_type": "raw",
   "id": "63b43ef2",
   "metadata": {},
   "source": [
    "while True:\n",
    "    sleep(0.1)\n",
    "    response = requests.post(url, json=client).json()\n",
    "    print(response)"
   ]
  },
  {
   "cell_type": "markdown",
   "id": "58acf49b",
   "metadata": {},
   "source": [
    "# Question 8"
   ]
  },
  {
   "cell_type": "markdown",
   "id": "cff885a9",
   "metadata": {},
   "source": [
    "Run kubectl get hpa credit-card-hpa --watch command to monitor how the autoscaler performs. Within a minute or so, you should see the higher CPU load; and then - more replicas. What was the maximum amount of the replicas during this test?"
   ]
  },
  {
   "cell_type": "code",
   "execution_count": 25,
   "id": "1e44c4ca",
   "metadata": {},
   "outputs": [
    {
     "name": "stdout",
     "output_type": "stream",
     "text": [
      "NAME              REFERENCE                TARGETS   MINPODS   MAXPODS   REPLICAS   AGE\r\n",
      "credit-card-hpa   Deployment/credit-card   13%/20%   1         3         3          35m\r\n"
     ]
    }
   ],
   "source": [
    "!kubectl get hpa credit-card-hpa"
   ]
  },
  {
   "cell_type": "markdown",
   "id": "421faff6",
   "metadata": {},
   "source": [
    "Answer: __3__"
   ]
  },
  {
   "cell_type": "code",
   "execution_count": null,
   "id": "d1624802",
   "metadata": {},
   "outputs": [],
   "source": []
  }
 ],
 "metadata": {
  "kernelspec": {
   "display_name": "Python 3 (ipykernel)",
   "language": "python",
   "name": "python3"
  },
  "language_info": {
   "codemirror_mode": {
    "name": "ipython",
    "version": 3
   },
   "file_extension": ".py",
   "mimetype": "text/x-python",
   "name": "python",
   "nbconvert_exporter": "python",
   "pygments_lexer": "ipython3",
   "version": "3.9.13"
  }
 },
 "nbformat": 4,
 "nbformat_minor": 5
}
